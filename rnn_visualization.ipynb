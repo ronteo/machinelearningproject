{
  "nbformat": 4,
  "nbformat_minor": 0,
  "metadata": {
    "colab": {
      "name": "rnn-visualization.ipynb",
      "version": "0.3.2",
      "provenance": [],
      "collapsed_sections": []
    },
    "kernelspec": {
      "name": "python2",
      "display_name": "Python 2"
    },
    "accelerator": "GPU"
  },
  "cells": [
    {
      "cell_type": "markdown",
      "metadata": {
        "id": "view-in-github",
        "colab_type": "text"
      },
      "source": [
        "[View in Colaboratory](https://colab.research.google.com/github/ronteo/machinelearningproject/blob/master/rnn_visualization.ipynb)"
      ]
    },
    {
      "metadata": {
        "id": "HckqH90ku-nC",
        "colab_type": "code",
        "colab": {
          "base_uri": "https://localhost:8080/",
          "height": 34
        },
        "outputId": "220b6f79-2592-4c41-8920-1363c5497e70"
      },
      "cell_type": "code",
      "source": [
        "import pickle\n",
        "from keras.utils.data_utils import get_file\n",
        "from keras.preprocessing import sequence\n",
        "import numpy as np\n",
        "import seaborn as sns\n",
        "import matplotlib.pyplot as plt\n",
        "from keras.models import load_model\n",
        "import pandas as pd\n",
        "\n",
        "% matplotlib inline"
      ],
      "execution_count": 2,
      "outputs": [
        {
          "output_type": "stream",
          "text": [
            "Using TensorFlow backend.\n"
          ],
          "name": "stderr"
        }
      ]
    },
    {
      "metadata": {
        "id": "ZqjJCN_g8pmO",
        "colab_type": "code",
        "colab": {
          "base_uri": "https://localhost:8080/",
          "height": 286
        },
        "outputId": "cfe71b46-f40b-4848-8b74-13ed29ba7142"
      },
      "cell_type": "code",
      "source": [
        "path = get_file('imdb_full.pkl',\n",
        "           origin='https://s3.amazonaws.com/text-datasets/imdb_full.pkl',\n",
        "           md5_hash='d091312047c43cf9e4e38fef92437263')\n",
        "\n",
        "#Split into train/test, and separate features from labels\n",
        "f = open(path, 'rb')\n",
        "(X_train, y_train), (X_test, y_test) = pickle.load(f)\n",
        "\n",
        "X_train = np.array(sequence.pad_sequences([np.array(x) for x in X_train], maxlen=MAXLEN))\n",
        "y_train =np.array(y_train)\n",
        "X_test = np.array(sequence.pad_sequences([np.array(x) for x in X_test], maxlen=MAXLEN))\n",
        "y_test = np.array(y_test)"
      ],
      "execution_count": 3,
      "outputs": [
        {
          "output_type": "stream",
          "text": [
            "Downloading data from https://s3.amazonaws.com/text-datasets/imdb_full.pkl\n",
            "65560576/65552540 [==============================] - 6s 0us/step\n",
            "65568768/65552540 [==============================] - 6s 0us/step\n"
          ],
          "name": "stdout"
        },
        {
          "output_type": "error",
          "ename": "NameError",
          "evalue": "ignored",
          "traceback": [
            "\u001b[0;31m\u001b[0m",
            "\u001b[0;31mNameError\u001b[0mTraceback (most recent call last)",
            "\u001b[0;32m<ipython-input-3-ac1338a0841c>\u001b[0m in \u001b[0;36m<module>\u001b[0;34m()\u001b[0m\n\u001b[1;32m      7\u001b[0m \u001b[0;34m(\u001b[0m\u001b[0mX_train\u001b[0m\u001b[0;34m,\u001b[0m \u001b[0my_train\u001b[0m\u001b[0;34m)\u001b[0m\u001b[0;34m,\u001b[0m \u001b[0;34m(\u001b[0m\u001b[0mX_test\u001b[0m\u001b[0;34m,\u001b[0m \u001b[0my_test\u001b[0m\u001b[0;34m)\u001b[0m \u001b[0;34m=\u001b[0m \u001b[0mpickle\u001b[0m\u001b[0;34m.\u001b[0m\u001b[0mload\u001b[0m\u001b[0;34m(\u001b[0m\u001b[0mf\u001b[0m\u001b[0;34m)\u001b[0m\u001b[0;34m\u001b[0m\u001b[0m\n\u001b[1;32m      8\u001b[0m \u001b[0;34m\u001b[0m\u001b[0m\n\u001b[0;32m----> 9\u001b[0;31m \u001b[0mX_train\u001b[0m \u001b[0;34m=\u001b[0m \u001b[0mnp\u001b[0m\u001b[0;34m.\u001b[0m\u001b[0marray\u001b[0m\u001b[0;34m(\u001b[0m\u001b[0msequence\u001b[0m\u001b[0;34m.\u001b[0m\u001b[0mpad_sequences\u001b[0m\u001b[0;34m(\u001b[0m\u001b[0;34m[\u001b[0m\u001b[0mnp\u001b[0m\u001b[0;34m.\u001b[0m\u001b[0marray\u001b[0m\u001b[0;34m(\u001b[0m\u001b[0mx\u001b[0m\u001b[0;34m)\u001b[0m \u001b[0;32mfor\u001b[0m \u001b[0mx\u001b[0m \u001b[0;32min\u001b[0m \u001b[0mX_train\u001b[0m\u001b[0;34m]\u001b[0m\u001b[0;34m,\u001b[0m \u001b[0mmaxlen\u001b[0m\u001b[0;34m=\u001b[0m\u001b[0mMAXLEN\u001b[0m\u001b[0;34m)\u001b[0m\u001b[0;34m)\u001b[0m\u001b[0;34m\u001b[0m\u001b[0m\n\u001b[0m\u001b[1;32m     10\u001b[0m \u001b[0my_train\u001b[0m \u001b[0;34m=\u001b[0m\u001b[0mnp\u001b[0m\u001b[0;34m.\u001b[0m\u001b[0marray\u001b[0m\u001b[0;34m(\u001b[0m\u001b[0my_train\u001b[0m\u001b[0;34m)\u001b[0m\u001b[0;34m\u001b[0m\u001b[0m\n\u001b[1;32m     11\u001b[0m \u001b[0mX_test\u001b[0m \u001b[0;34m=\u001b[0m \u001b[0mnp\u001b[0m\u001b[0;34m.\u001b[0m\u001b[0marray\u001b[0m\u001b[0;34m(\u001b[0m\u001b[0msequence\u001b[0m\u001b[0;34m.\u001b[0m\u001b[0mpad_sequences\u001b[0m\u001b[0;34m(\u001b[0m\u001b[0;34m[\u001b[0m\u001b[0mnp\u001b[0m\u001b[0;34m.\u001b[0m\u001b[0marray\u001b[0m\u001b[0;34m(\u001b[0m\u001b[0mx\u001b[0m\u001b[0;34m)\u001b[0m \u001b[0;32mfor\u001b[0m \u001b[0mx\u001b[0m \u001b[0;32min\u001b[0m \u001b[0mX_test\u001b[0m\u001b[0;34m]\u001b[0m\u001b[0;34m,\u001b[0m \u001b[0mmaxlen\u001b[0m\u001b[0;34m=\u001b[0m\u001b[0mMAXLEN\u001b[0m\u001b[0;34m)\u001b[0m\u001b[0;34m)\u001b[0m\u001b[0;34m\u001b[0m\u001b[0m\n",
            "\u001b[0;31mNameError\u001b[0m: name 'MAXLEN' is not defined"
          ]
        }
      ]
    },
    {
      "metadata": {
        "id": "3v41vypPRvXE",
        "colab_type": "code",
        "colab": {}
      },
      "cell_type": "code",
      "source": [
        "\n",
        "import keras\n",
        "\n",
        "def build_model():\n",
        "    initi = keras.initializers.Constant(value=.5)\n",
        "    biniti = keras.initializers.Constant(value=1)\n",
        "    input_layer = Input(shape=(2, 3 ), name='input_layer', dtype='float32')\n",
        "    X = keras.layers.LSTM(1,kernel_initializer=initi, bias_initializer=biniti, return_sequences=True)(input_layer)\n",
        "    last_step_layer = Lambda(lambda x: x[:, -1, :], output_shape=(rnn_hidden_dim, ), name='last_step_layer')(X)  \n",
        "    \n",
        "    \n",
        "    #embedding_layer = Embedding(vocab_size, EMBEDDING_DIM, input_length=maxlen, trainable=True, mask_zero=False, name='embedding_layer')(input_layer)  # -- ideally mask_zero=False but can't work with lambda layers\n",
        "    #recurrent_layer = LSTM(output_dim=rnn_hidden_dim, activation='tanh', return_sequences=True, name='recurrent_layer')(embedding_layer)\n",
        "    #last_step_layer = Lambda(lambda x: x[:, -1, :], output_shape=(rnn_hidden_dim, ), name='last_step_layer')(recurrent_layer)  # only needed for visualization\n",
        "    #logit = Dense(1, name='logit_layer')(last_step_layer)\n",
        "    #output_layer = Activation('sigmoid', name='output_layer')(logit)\n",
        "    \n",
        "    optimizer = Adam(lr=0.001)\n",
        "    model = Model(input=input_layer, output=X)\n",
        "    print('Compiling...')\n",
        "    model.compile(loss='mse', optimizer=optimizer, metrics=['accuracy'])\n",
        "\n",
        "    model.summary()\n",
        "    return model"
      ],
      "execution_count": 0,
      "outputs": []
    },
    {
      "metadata": {
        "id": "FD9rgKeuUtI-",
        "colab_type": "code",
        "colab": {
          "base_uri": "https://localhost:8080/",
          "height": 278
        },
        "outputId": "9f85f66d-ac45-4154-e5f0-e342a49b36c9"
      },
      "cell_type": "code",
      "source": [
        "model = build_model()\n",
        "grads = K.gradients(model.output, model.input)\n",
        "\n",
        "grad = K.function([model.input],  [grads[0]])\n",
        "grad([np.reshape(ex1, (1,2,3))])\n"
      ],
      "execution_count": 173,
      "outputs": [
        {
          "output_type": "stream",
          "text": [
            "/usr/local/lib/python2.7/dist-packages/ipykernel_launcher.py:19: UserWarning: Update your `Model` call to the Keras 2 API: `Model(outputs=Tensor(\"ls..., inputs=Tensor(\"in...)`\n"
          ],
          "name": "stderr"
        },
        {
          "output_type": "stream",
          "text": [
            "Compiling...\n",
            "_________________________________________________________________\n",
            "Layer (type)                 Output Shape              Param #   \n",
            "=================================================================\n",
            "input_layer (InputLayer)     (None, 2, 3)              0         \n",
            "_________________________________________________________________\n",
            "lstm_3 (LSTM)                (None, 1)                 20        \n",
            "=================================================================\n",
            "Total params: 20\n",
            "Trainable params: 20\n",
            "Non-trainable params: 0\n",
            "_________________________________________________________________\n"
          ],
          "name": "stdout"
        },
        {
          "output_type": "execute_result",
          "data": {
            "text/plain": [
              "[array([[[1.7664044e-05, 1.7664044e-05, 1.7664044e-05],\n",
              "         [5.3725130e-04, 5.3725130e-04, 5.3725130e-04]]], dtype=float32)]"
            ]
          },
          "metadata": {
            "tags": []
          },
          "execution_count": 173
        }
      ]
    },
    {
      "metadata": {
        "id": "-dDH54gqaME8",
        "colab_type": "code",
        "colab": {
          "base_uri": "https://localhost:8080/",
          "height": 34
        },
        "outputId": "a50b3ace-ccda-40fd-c74e-3f7a4403b620"
      },
      "cell_type": "code",
      "source": [
        "ex1 = np.array([[1.5,2.5,3.0], [-1.5,2.5,3.0]])\n",
        "ex2 = [-1.5,2.5,3.0]\n",
        "ex3 = [1.5,2.5,-3.0]\n",
        "\n",
        "\n",
        "ex1.shape"
      ],
      "execution_count": 142,
      "outputs": [
        {
          "output_type": "execute_result",
          "data": {
            "text/plain": [
              "(2, 3)"
            ]
          },
          "metadata": {
            "tags": []
          },
          "execution_count": 142
        }
      ]
    },
    {
      "metadata": {
        "id": "Is64SjQnTUhy",
        "colab_type": "code",
        "colab": {
          "base_uri": "https://localhost:8080/",
          "height": 243
        },
        "outputId": "94c9f4eb-227a-46ef-84f0-e76021f7355c"
      },
      "cell_type": "code",
      "source": [
        "\n",
        "#ex1 =[ex1, ex2]\n",
        "\n",
        "\n",
        "\n",
        "\n"
      ],
      "execution_count": 160,
      "outputs": [
        {
          "output_type": "stream",
          "text": [
            "Compiling...\n",
            "_________________________________________________________________\n",
            "Layer (type)                 Output Shape              Param #   \n",
            "=================================================================\n",
            "input_layer (InputLayer)     (None, 2, 3)              0         \n",
            "_________________________________________________________________\n",
            "gru_1 (GRU)                  (None, 1)                 15        \n",
            "=================================================================\n",
            "Total params: 15\n",
            "Trainable params: 15\n",
            "Non-trainable params: 0\n",
            "_________________________________________________________________\n"
          ],
          "name": "stdout"
        },
        {
          "output_type": "stream",
          "text": [
            "/usr/local/lib/python2.7/dist-packages/ipykernel_launcher.py:19: UserWarning: Update your `Model` call to the Keras 2 API: `Model(outputs=Tensor(\"gr..., inputs=Tensor(\"in...)`\n"
          ],
          "name": "stderr"
        }
      ]
    },
    {
      "metadata": {
        "id": "MskI-Q9LdiK2",
        "colab_type": "code",
        "colab": {}
      },
      "cell_type": "code",
      "source": [
        "from __future__ import print_function\n",
        "\n",
        "from keras import backend as K\n",
        "from keras.engine import Input, Model, InputSpec\n",
        "from keras.layers import Dense, Activation, Dropout, Lambda\n",
        "from keras.layers import Embedding, LSTM\n",
        "from keras.optimizers import Adam\n",
        "\n",
        "from keras.utils.data_utils import get_file\n",
        "from keras.datasets import imdb\n",
        "import random\n",
        "import sys\n",
        "import pdb\n",
        "\n",
        "MAX_FEATURES = 20000\n",
        "MAXLEN = 80\n",
        "BATCH_SIZE = 32\n",
        "STEP = 3\n",
        "EMBEDDING_DIM = 128\n",
        "RNN_HIDDEN_DIM = 128\n",
        "\n",
        "# TODO: add normalization\n",
        "# TODO: activation cluster?\n",
        "# TODO: get forget gates from LSTMs (not sure how to grab temporary tensors inside loops)\n",
        "\n",
        "\n",
        "def build_vocab():\n",
        "    vocab = imdb.get_word_index()\n",
        "    rev_vocab = {v: k for k, v in vocab.iteritems()}\n",
        "    return vocab, rev_vocab\n",
        "\n",
        "\n",
        "def vectorize(text, vocab, \n",
        "              maxlen=MAXLEN, start_char=1, oov_char=2, index_from=3):\n",
        "    \"\"\" might not be consistent with vectorize_data. \"\"\"\n",
        "    if isinstance(text, basestring):\n",
        "        text = [text]\n",
        "    v = [[vocab.get(w, oov_char) for w in t.lower().split()] for t in text]\n",
        "    return sequence.pad_sequences(v, maxlen=maxlen)\n",
        "\n",
        "\n",
        "def vectorize_data(max_features=MAX_FEATURES, maxlen=MAXLEN, batch_size=BATCH_SIZE, limit=None):\n",
        "\n",
        "    print('Loading data...')\n",
        "    (X_train, y_train), (X_test, y_test) = imdb.load_data(nb_words=max_features)\n",
        "    print(len(X_train), 'train sequences')\n",
        "    print(len(X_test), 'test sequences')\n",
        "\n",
        "    print('Pad sequences (samples x time)')\n",
        "    X_train = sequence.pad_sequences(X_train, maxlen=maxlen)\n",
        "    X_test = sequence.pad_sequences(X_test, maxlen=maxlen)\n",
        "    print('X_train shape:', X_train.shape)\n",
        "    print('X_test shape:', X_test.shape)\n",
        "\n",
        "    if limit is None:\n",
        "        return X_train, y_train, X_test, y_test\n",
        "    else:\n",
        "        return X_train[:limit], y_train[:limit], X_test[:limit], y_test[:limit]\n",
        "\n",
        "\n",
        "def build_model(vocab_size, maxlen=MAXLEN, rnn_hidden_dim=RNN_HIDDEN_DIM):\n",
        "    input_layer = Input(shape=(maxlen, ), name='input_layer', dtype='int32')\n",
        "    embedding_layer = Embedding(vocab_size, EMBEDDING_DIM, input_length=maxlen, trainable=True, mask_zero=False, name='embedding_layer')(input_layer)  # -- ideally mask_zero=False but can't work with lambda layers\n",
        "    recurrent_layer, _, _ = LSTM(output_dim=rnn_hidden_dim, activation='tanh', return_sequences=True, return_state=True, name='recurrent_layer')(embedding_layer)\n",
        "    last_step_layer = Lambda(lambda x: x[:, -1, :], output_shape=(rnn_hidden_dim, ), name='last_step_layer')(recurrent_layer)  # only needed for visualization\n",
        "    logit = Dense(1, name='logit_layer')(last_step_layer)\n",
        "    output_layer = Activation('sigmoid', name='output_layer')(logit)\n",
        "    \n",
        "    optimizer = Adam(lr=0.001)\n",
        "    model = Model(input=input_layer, output=output_layer)\n",
        "    print('Compiling...')\n",
        "    model.compile(loss='binary_crossentropy', optimizer=optimizer, metrics=['accuracy'])\n",
        "\n",
        "    model.summary()\n",
        "    return model\n",
        "\n",
        "\n",
        "def visualize_model(model, include_gradients=False):\n",
        "    recurrent_layer = model.get_layer('recurrent_layer')\n",
        "    logit_layer = model.get_layer('logit_layer')\n",
        "    output_layer = model.get_layer('output_layer')\n",
        "    embedding_layer = model.get_layer('embedding_layer')\n",
        "    \n",
        "    \n",
        "    recurrent_layer_output, _,  _ = recurrent_layer.output\n",
        "    \n",
        "    inputs = []\n",
        "    inputs.extend(model.inputs)\n",
        "\n",
        "    outputs = []\n",
        "    outputs.extend(model.outputs)\n",
        "    outputs.append(recurrent_layer_output)\n",
        "    outputs.append(recurrent_layer.cell.kernel_f)  # -- weights of the forget gates (assuming LSTM)\n",
        "    outputs.append(logit_layer.output)\n",
        "    \n",
        "    \n",
        "    if include_gradients:\n",
        "      loss = K.mean(model.output)  # [batch_size, 1] -> scalar   #Why is the mean of the output the loss? The ouput of the sigmoid is the loss?? Mean of a scalar??? why? since mean of scalar is just the scalar?\n",
        "      #loss = model.output\n",
        "      print(\"loss.shape{}\".format(loss.shape))\n",
        "      grads = K.gradients(loss, embedding_layer.output)[0] # Partial derivative  or total derivate ? I think I want stop since I want to conisder the consider only the contributions of x's of loss wrt the output of the LSTM. Showing how a small change in the output of the recurrent will affect our loss, in this case, how it affects the output.\n",
        "      #print(\"grads.shape{}\".format(len(grads)))                                                 \n",
        "      #grads_norm = grads / (K.sqrt(K.mean(K.square(grads))) + 1e-5) # Do I want to take the mean of the encoding? Do I want abs/positive grads? absolute?\n",
        "      outputs.append(grads)\n",
        "\n",
        "    all_function = K.function(inputs, outputs)\n",
        "    output_function = K.function([logit_layer.input], model.outputs)\n",
        "    return all_function, output_function\n",
        "\n",
        "\n",
        "def get_compare_embeddings(original_embeddings, tuned_embeddings, vocab, dimreduce_type=\"pca\", random_state=0):\n",
        "    \"\"\" Compare embeddings drift. \"\"\"\n",
        "    if dimreduce_type == \"pca\":\n",
        "        from sklearn.decomposition import PCA\n",
        "        dimreducer = PCA(n_components=2, random_state=random_state)\n",
        "    elif dimreduce_type == \"tsne\":\n",
        "        from sklearn.manifold import TSNE\n",
        "        dimreducer = TSNE(n_components=2, random_state=random_state)\n",
        "    else:\n",
        "        raise Exception(\"Wrong dimreduce_type.\")\n",
        "\n",
        "    reduced_original = dimreducer.fit_transform(original_embeddings)\n",
        "    reduced_tuned = dimreducer.fit_transform(tuned_embeddings)\n",
        "\n",
        "    def compare_embeddings(word):\n",
        "        if word not in vocab:\n",
        "            return None\n",
        "        word_id = vocab[word]\n",
        "        original_x, original_y = reduced_original[word_id, :]\n",
        "        tuned_x, tuned_y = reduced_tuned[word_id, :]\n",
        "        return original_x, original_y, tuned_x, tuned_y\n",
        "\n",
        "    return compare_embeddings\n",
        "\n",
        "\n",
        "vocab, rev_vocab = build_vocab()"
      ],
      "execution_count": 0,
      "outputs": []
    },
    {
      "metadata": {
        "id": "6lqt926J3cwo",
        "colab_type": "code",
        "colab": {
          "base_uri": "https://localhost:8080/",
          "height": 217
        },
        "outputId": "0f7ac15c-a413-462b-aa78-71170bb86470"
      },
      "cell_type": "code",
      "source": [
        "recurrent_layer = model.get_layer('recurrent_layer')\n",
        "out, state_h, _  = recurrent_layer.output\n",
        "print(state_h)\n",
        "out"
      ],
      "execution_count": 1,
      "outputs": [
        {
          "output_type": "error",
          "ename": "NameError",
          "evalue": "ignored",
          "traceback": [
            "\u001b[0;31m\u001b[0m",
            "\u001b[0;31mNameError\u001b[0mTraceback (most recent call last)",
            "\u001b[0;32m<ipython-input-1-79c914936188>\u001b[0m in \u001b[0;36m<module>\u001b[0;34m()\u001b[0m\n\u001b[0;32m----> 1\u001b[0;31m \u001b[0mrecurrent_layer\u001b[0m \u001b[0;34m=\u001b[0m \u001b[0mmodel\u001b[0m\u001b[0;34m.\u001b[0m\u001b[0mget_layer\u001b[0m\u001b[0;34m(\u001b[0m\u001b[0;34m'recurrent_layer'\u001b[0m\u001b[0;34m)\u001b[0m\u001b[0;34m\u001b[0m\u001b[0m\n\u001b[0m\u001b[1;32m      2\u001b[0m \u001b[0mout\u001b[0m\u001b[0;34m,\u001b[0m \u001b[0mstate_h\u001b[0m\u001b[0;34m,\u001b[0m \u001b[0m_\u001b[0m  \u001b[0;34m=\u001b[0m \u001b[0mrecurrent_layer\u001b[0m\u001b[0;34m.\u001b[0m\u001b[0moutput\u001b[0m\u001b[0;34m\u001b[0m\u001b[0m\n\u001b[1;32m      3\u001b[0m \u001b[0;32mprint\u001b[0m\u001b[0;34m(\u001b[0m\u001b[0mstate_h\u001b[0m\u001b[0;34m)\u001b[0m\u001b[0;34m\u001b[0m\u001b[0m\n\u001b[1;32m      4\u001b[0m \u001b[0mout\u001b[0m\u001b[0;34m\u001b[0m\u001b[0m\n",
            "\u001b[0;31mNameError\u001b[0m: name 'model' is not defined"
          ]
        }
      ]
    },
    {
      "metadata": {
        "id": "ROzSRRcEpD3y",
        "colab_type": "code",
        "colab": {
          "base_uri": "https://localhost:8080/",
          "height": 34
        },
        "outputId": "16cdc47a-fc3b-4274-b96e-10ba61c8d92d"
      },
      "cell_type": "code",
      "source": [
        "embedding_layer = model.get_layer('embedding_layer')\n",
        "type(embedding_layer.output)"
      ],
      "execution_count": 73,
      "outputs": [
        {
          "output_type": "execute_result",
          "data": {
            "text/plain": [
              "tensorflow.python.framework.ops.Tensor"
            ]
          },
          "metadata": {
            "tags": []
          },
          "execution_count": 73
        }
      ]
    },
    {
      "metadata": {
        "id": "E7DlEZd6p3zk",
        "colab_type": "code",
        "colab": {
          "base_uri": "https://localhost:8080/",
          "height": 34
        },
        "outputId": "899af28e-6492-42b3-f22f-cdf7c66df434"
      },
      "cell_type": "code",
      "source": [
        "model.inputs[0]"
      ],
      "execution_count": 50,
      "outputs": [
        {
          "output_type": "execute_result",
          "data": {
            "text/plain": [
              "<tf.Tensor 'input_layer_3:0' shape=(?, 80) dtype=int32>"
            ]
          },
          "metadata": {
            "tags": []
          },
          "execution_count": 50
        }
      ]
    },
    {
      "metadata": {
        "id": "LOpPrNKmm4cq",
        "colab_type": "code",
        "colab": {
          "base_uri": "https://localhost:8080/",
          "height": 34
        },
        "outputId": "e6bf1537-79e3-4349-9fde-dcce73441423"
      },
      "cell_type": "code",
      "source": [
        "all_function, output_function = visualize_model(model, include_gradients=True)"
      ],
      "execution_count": 81,
      "outputs": [
        {
          "output_type": "stream",
          "text": [
            "loss.shape()\n"
          ],
          "name": "stdout"
        }
      ]
    },
    {
      "metadata": {
        "id": "-XnbFjbYdXt8",
        "colab_type": "code",
        "colab": {
          "base_uri": "https://localhost:8080/",
          "height": 1591
        },
        "outputId": "b5b74250-7ca2-4f54-a278-5f5b624c3cd9"
      },
      "cell_type": "code",
      "source": [
        "if __name__ == '__main__':\n",
        "    # -- train\n",
        "    #vocab, rev_vocab = build_vocab()\n",
        "    # Get full dataset (copied from Keras)\n",
        "    #path = get_file('imdb_full.pkl',\n",
        "    #            origin='https://s3.amazonaws.com/text-datasets/imdb_full.pkl',\n",
        "    #            md5_hash='d091312047c43cf9e4e38fef92437263')\n",
        "\n",
        "    # Split into train/test, and separate features from labels\n",
        "    #f = open(path, 'rb')\n",
        "    #(np.array(X_train), np.array(y_train)), ((np.array(X_test), np.array(y_test)) = pickle.load(f)\n",
        "    \n",
        "    #X_train, y_train, X_test, y_test = vectorize_data()\n",
        "    model = build_model(len(vocab))\n",
        "    model.fit(X_train, y_train, batch_size=BATCH_SIZE, epochs=1, verbose=True, # validation_split=0.05)\n",
        "              validation_data=(X_test, y_test))\n",
        "\n",
        "    acc = model.evaluate(X_test, y_test, batch_size=BATCH_SIZE)\n",
        "    print('Test accuracy:', acc)\n",
        "\n",
        "    # -- predict\n",
        "    all_function, output_function = visualize_model(model, include_gradients=True)\n",
        "\n",
        "    t = \"HOW COULD anything originate out of its opposite?\".lower()\n",
        "    X = vectorize(t, vocab)\n",
        "    \n",
        "    # -- Return scores, raw rnn values and gradients\n",
        "    # scores is equivalent to model.predict(X)\n",
        "    scores, rnn_values, W_i, logits, rnn_gradients = all_function([X])\n",
        "    print(\"scores.shape: {}, rnn_values.shape: {}, rnn_gradients.shape: {}, W_i.shape: {}\".format(scores.shape, rnn_values.shape, rnn_gradients.shape, W_i.shape))\n",
        "\n",
        "    # -- score prediction\n",
        "    print(\"Scores:\", scores)\n",
        "\n",
        "    # -- Return scores at each step in the time sequence\n",
        "    time_distributed_scores = map(lambda x: output_function([x]), rnn_values)\n",
        "    print(\"Time distributed (word-level) scores:\", map(lambda x: x[0], time_distributed_scores))\n",
        "\n",
        "\n",
        "    # -- if you have original embeddings, use here\n",
        "    embeddings = model.get_weights()[0]\n",
        "    compare_embeddings = get_compare_embeddings(embeddings, embeddings, vocab, dimreduce_type=\"pca\", random_state=0)\n",
        "    print(\"Embeddings drift:\", compare_embeddings('d'))\n",
        "    \n",
        "    \n",
        "    model.save(\"model.hdf5\")"
      ],
      "execution_count": 70,
      "outputs": [
        {
          "output_type": "stream",
          "text": [
            "/usr/local/lib/python2.7/dist-packages/ipykernel_launcher.py:64: UserWarning: Update your `LSTM` call to the Keras 2 API: `LSTM(name=\"recurrent_layer\", return_state=True, activation=\"tanh\", units=128, return_sequences=True)`\n",
            "/usr/local/lib/python2.7/dist-packages/ipykernel_launcher.py:70: UserWarning: Update your `Model` call to the Keras 2 API: `Model(outputs=Tensor(\"ou..., inputs=Tensor(\"in...)`\n"
          ],
          "name": "stderr"
        },
        {
          "output_type": "stream",
          "text": [
            "Compiling...\n",
            "_________________________________________________________________\n",
            "Layer (type)                 Output Shape              Param #   \n",
            "=================================================================\n",
            "input_layer (InputLayer)     (None, 80)                0         \n",
            "_________________________________________________________________\n",
            "embedding_layer (Embedding)  (None, 80, 128)           11338752  \n",
            "_________________________________________________________________\n",
            "recurrent_layer (LSTM)       [(None, 80, 128), (None,  131584    \n",
            "_________________________________________________________________\n",
            "last_step_layer (Lambda)     (None, 128)               0         \n",
            "_________________________________________________________________\n",
            "logit_layer (Dense)          (None, 1)                 129       \n",
            "_________________________________________________________________\n",
            "output_layer (Activation)    (None, 1)                 0         \n",
            "=================================================================\n",
            "Total params: 11,470,465\n",
            "Trainable params: 11,470,465\n",
            "Non-trainable params: 0\n",
            "_________________________________________________________________\n",
            "Train on 25000 samples, validate on 25000 samples\n",
            "Epoch 1/1\n",
            " 2400/25000 [=>............................] - ETA: 2:50 - loss: 0.6698 - acc: 0.5842"
          ],
          "name": "stdout"
        },
        {
          "output_type": "stream",
          "text": [
            "25000/25000 [==============================] - 215s 9ms/step - loss: 0.4357 - acc: 0.7921 - val_loss: 0.3743 - val_acc: 0.8352\n",
            " 7040/25000 [=======>......................] - ETA: 31s"
          ],
          "name": "stdout"
        },
        {
          "output_type": "stream",
          "text": [
            "25000/25000 [==============================] - 44s 2ms/step\n",
            "Test accuracy: [0.37429480922698977, 0.83524]\n",
            "loss.shape()\n"
          ],
          "name": "stdout"
        },
        {
          "output_type": "error",
          "ename": "TypeError",
          "evalue": "ignored",
          "traceback": [
            "\u001b[0;31m\u001b[0m",
            "\u001b[0;31mTypeError\u001b[0mTraceback (most recent call last)",
            "\u001b[0;32m<ipython-input-70-74d2f7fd2bde>\u001b[0m in \u001b[0;36m<module>\u001b[0;34m()\u001b[0m\n\u001b[1;32m     20\u001b[0m \u001b[0;34m\u001b[0m\u001b[0m\n\u001b[1;32m     21\u001b[0m     \u001b[0;31m# -- predict\u001b[0m\u001b[0;34m\u001b[0m\u001b[0;34m\u001b[0m\u001b[0m\n\u001b[0;32m---> 22\u001b[0;31m     \u001b[0mall_function\u001b[0m\u001b[0;34m,\u001b[0m \u001b[0moutput_function\u001b[0m \u001b[0;34m=\u001b[0m \u001b[0mvisualize_model\u001b[0m\u001b[0;34m(\u001b[0m\u001b[0mmodel\u001b[0m\u001b[0;34m,\u001b[0m \u001b[0minclude_gradients\u001b[0m\u001b[0;34m=\u001b[0m\u001b[0mTrue\u001b[0m\u001b[0;34m)\u001b[0m\u001b[0;34m\u001b[0m\u001b[0m\n\u001b[0m\u001b[1;32m     23\u001b[0m \u001b[0;34m\u001b[0m\u001b[0m\n\u001b[1;32m     24\u001b[0m     \u001b[0mt\u001b[0m \u001b[0;34m=\u001b[0m \u001b[0;34m\"HOW COULD anything originate out of its opposite?\"\u001b[0m\u001b[0;34m.\u001b[0m\u001b[0mlower\u001b[0m\u001b[0;34m(\u001b[0m\u001b[0;34m)\u001b[0m\u001b[0;34m\u001b[0m\u001b[0m\n",
            "\u001b[0;32m<ipython-input-69-f70c86c303b8>\u001b[0m in \u001b[0;36mvisualize_model\u001b[0;34m(model, include_gradients)\u001b[0m\n\u001b[1;32m    101\u001b[0m       \u001b[0moutputs\u001b[0m\u001b[0;34m.\u001b[0m\u001b[0mappend\u001b[0m\u001b[0;34m(\u001b[0m\u001b[0mgrads\u001b[0m\u001b[0;34m)\u001b[0m\u001b[0;34m\u001b[0m\u001b[0m\n\u001b[1;32m    102\u001b[0m \u001b[0;34m\u001b[0m\u001b[0m\n\u001b[0;32m--> 103\u001b[0;31m     \u001b[0mall_function\u001b[0m \u001b[0;34m=\u001b[0m \u001b[0mK\u001b[0m\u001b[0;34m.\u001b[0m\u001b[0mfunction\u001b[0m\u001b[0;34m(\u001b[0m\u001b[0minputs\u001b[0m\u001b[0;34m,\u001b[0m \u001b[0moutputs\u001b[0m\u001b[0;34m)\u001b[0m\u001b[0;34m\u001b[0m\u001b[0m\n\u001b[0m\u001b[1;32m    104\u001b[0m     \u001b[0moutput_function\u001b[0m \u001b[0;34m=\u001b[0m \u001b[0mK\u001b[0m\u001b[0;34m.\u001b[0m\u001b[0mfunction\u001b[0m\u001b[0;34m(\u001b[0m\u001b[0;34m[\u001b[0m\u001b[0mlogit_layer\u001b[0m\u001b[0;34m.\u001b[0m\u001b[0minput\u001b[0m\u001b[0;34m]\u001b[0m\u001b[0;34m,\u001b[0m \u001b[0mmodel\u001b[0m\u001b[0;34m.\u001b[0m\u001b[0moutputs\u001b[0m\u001b[0;34m)\u001b[0m\u001b[0;34m\u001b[0m\u001b[0m\n\u001b[1;32m    105\u001b[0m     \u001b[0;32mreturn\u001b[0m \u001b[0mall_function\u001b[0m\u001b[0;34m,\u001b[0m \u001b[0moutput_function\u001b[0m\u001b[0;34m\u001b[0m\u001b[0m\n",
            "\u001b[0;32m/usr/local/lib/python2.7/dist-packages/keras/backend/tensorflow_backend.pyc\u001b[0m in \u001b[0;36mfunction\u001b[0;34m(inputs, outputs, updates, **kwargs)\u001b[0m\n\u001b[1;32m   2500\u001b[0m                 \u001b[0mmsg\u001b[0m \u001b[0;34m=\u001b[0m \u001b[0;34m'Invalid argument \"%s\" passed to K.function with TensorFlow backend'\u001b[0m \u001b[0;34m%\u001b[0m \u001b[0mkey\u001b[0m\u001b[0;34m\u001b[0m\u001b[0m\n\u001b[1;32m   2501\u001b[0m                 \u001b[0;32mraise\u001b[0m \u001b[0mValueError\u001b[0m\u001b[0;34m(\u001b[0m\u001b[0mmsg\u001b[0m\u001b[0;34m)\u001b[0m\u001b[0;34m\u001b[0m\u001b[0m\n\u001b[0;32m-> 2502\u001b[0;31m     \u001b[0;32mreturn\u001b[0m \u001b[0mFunction\u001b[0m\u001b[0;34m(\u001b[0m\u001b[0minputs\u001b[0m\u001b[0;34m,\u001b[0m \u001b[0moutputs\u001b[0m\u001b[0;34m,\u001b[0m \u001b[0mupdates\u001b[0m\u001b[0;34m=\u001b[0m\u001b[0mupdates\u001b[0m\u001b[0;34m,\u001b[0m \u001b[0;34m**\u001b[0m\u001b[0mkwargs\u001b[0m\u001b[0;34m)\u001b[0m\u001b[0;34m\u001b[0m\u001b[0m\n\u001b[0m\u001b[1;32m   2503\u001b[0m \u001b[0;34m\u001b[0m\u001b[0m\n\u001b[1;32m   2504\u001b[0m \u001b[0;34m\u001b[0m\u001b[0m\n",
            "\u001b[0;32m/usr/local/lib/python2.7/dist-packages/keras/backend/tensorflow_backend.pyc\u001b[0m in \u001b[0;36m__init__\u001b[0;34m(self, inputs, outputs, updates, name, **session_kwargs)\u001b[0m\n\u001b[1;32m   2443\u001b[0m         \u001b[0mself\u001b[0m\u001b[0;34m.\u001b[0m\u001b[0minputs\u001b[0m \u001b[0;34m=\u001b[0m \u001b[0mlist\u001b[0m\u001b[0;34m(\u001b[0m\u001b[0minputs\u001b[0m\u001b[0;34m)\u001b[0m\u001b[0;34m\u001b[0m\u001b[0m\n\u001b[1;32m   2444\u001b[0m         \u001b[0mself\u001b[0m\u001b[0;34m.\u001b[0m\u001b[0moutputs\u001b[0m \u001b[0;34m=\u001b[0m \u001b[0mlist\u001b[0m\u001b[0;34m(\u001b[0m\u001b[0moutputs\u001b[0m\u001b[0;34m)\u001b[0m\u001b[0;34m\u001b[0m\u001b[0m\n\u001b[0;32m-> 2445\u001b[0;31m         \u001b[0;32mwith\u001b[0m \u001b[0mtf\u001b[0m\u001b[0;34m.\u001b[0m\u001b[0mcontrol_dependencies\u001b[0m\u001b[0;34m(\u001b[0m\u001b[0mself\u001b[0m\u001b[0;34m.\u001b[0m\u001b[0moutputs\u001b[0m\u001b[0;34m)\u001b[0m\u001b[0;34m:\u001b[0m\u001b[0;34m\u001b[0m\u001b[0m\n\u001b[0m\u001b[1;32m   2446\u001b[0m             \u001b[0mupdates_ops\u001b[0m \u001b[0;34m=\u001b[0m \u001b[0;34m[\u001b[0m\u001b[0;34m]\u001b[0m\u001b[0;34m\u001b[0m\u001b[0m\n\u001b[1;32m   2447\u001b[0m             \u001b[0;32mfor\u001b[0m \u001b[0mupdate\u001b[0m \u001b[0;32min\u001b[0m \u001b[0mupdates\u001b[0m\u001b[0;34m:\u001b[0m\u001b[0;34m\u001b[0m\u001b[0m\n",
            "\u001b[0;32m/usr/local/lib/python2.7/dist-packages/tensorflow/python/framework/ops.pyc\u001b[0m in \u001b[0;36mcontrol_dependencies\u001b[0;34m(control_inputs)\u001b[0m\n\u001b[1;32m   4861\u001b[0m     \u001b[0;32mreturn\u001b[0m \u001b[0m_NullContextmanager\u001b[0m\u001b[0;34m(\u001b[0m\u001b[0;34m)\u001b[0m\u001b[0;34m\u001b[0m\u001b[0m\n\u001b[1;32m   4862\u001b[0m   \u001b[0;32melse\u001b[0m\u001b[0;34m:\u001b[0m\u001b[0;34m\u001b[0m\u001b[0m\n\u001b[0;32m-> 4863\u001b[0;31m     \u001b[0;32mreturn\u001b[0m \u001b[0mget_default_graph\u001b[0m\u001b[0;34m(\u001b[0m\u001b[0;34m)\u001b[0m\u001b[0;34m.\u001b[0m\u001b[0mcontrol_dependencies\u001b[0m\u001b[0;34m(\u001b[0m\u001b[0mcontrol_inputs\u001b[0m\u001b[0;34m)\u001b[0m\u001b[0;34m\u001b[0m\u001b[0m\n\u001b[0m\u001b[1;32m   4864\u001b[0m \u001b[0;34m\u001b[0m\u001b[0m\n\u001b[1;32m   4865\u001b[0m \u001b[0;34m\u001b[0m\u001b[0m\n",
            "\u001b[0;32m/usr/local/lib/python2.7/dist-packages/tensorflow/python/framework/ops.pyc\u001b[0m in \u001b[0;36mcontrol_dependencies\u001b[0;34m(self, control_inputs)\u001b[0m\n\u001b[1;32m   4479\u001b[0m       \u001b[0;32mif\u001b[0m \u001b[0misinstance\u001b[0m\u001b[0;34m(\u001b[0m\u001b[0mc\u001b[0m\u001b[0;34m,\u001b[0m \u001b[0mIndexedSlices\u001b[0m\u001b[0;34m)\u001b[0m\u001b[0;34m:\u001b[0m\u001b[0;34m\u001b[0m\u001b[0m\n\u001b[1;32m   4480\u001b[0m         \u001b[0mc\u001b[0m \u001b[0;34m=\u001b[0m \u001b[0mc\u001b[0m\u001b[0;34m.\u001b[0m\u001b[0mop\u001b[0m\u001b[0;34m\u001b[0m\u001b[0m\n\u001b[0;32m-> 4481\u001b[0;31m       \u001b[0mc\u001b[0m \u001b[0;34m=\u001b[0m \u001b[0mself\u001b[0m\u001b[0;34m.\u001b[0m\u001b[0mas_graph_element\u001b[0m\u001b[0;34m(\u001b[0m\u001b[0mc\u001b[0m\u001b[0;34m)\u001b[0m\u001b[0;34m\u001b[0m\u001b[0m\n\u001b[0m\u001b[1;32m   4482\u001b[0m       \u001b[0;32mif\u001b[0m \u001b[0misinstance\u001b[0m\u001b[0;34m(\u001b[0m\u001b[0mc\u001b[0m\u001b[0;34m,\u001b[0m \u001b[0mTensor\u001b[0m\u001b[0;34m)\u001b[0m\u001b[0;34m:\u001b[0m\u001b[0;34m\u001b[0m\u001b[0m\n\u001b[1;32m   4483\u001b[0m         \u001b[0mc\u001b[0m \u001b[0;34m=\u001b[0m \u001b[0mc\u001b[0m\u001b[0;34m.\u001b[0m\u001b[0mop\u001b[0m\u001b[0;34m\u001b[0m\u001b[0m\n",
            "\u001b[0;32m/usr/local/lib/python2.7/dist-packages/tensorflow/python/framework/ops.pyc\u001b[0m in \u001b[0;36mas_graph_element\u001b[0;34m(self, obj, allow_tensor, allow_operation)\u001b[0m\n\u001b[1;32m   3476\u001b[0m \u001b[0;34m\u001b[0m\u001b[0m\n\u001b[1;32m   3477\u001b[0m     \u001b[0;32mwith\u001b[0m \u001b[0mself\u001b[0m\u001b[0;34m.\u001b[0m\u001b[0m_lock\u001b[0m\u001b[0;34m:\u001b[0m\u001b[0;34m\u001b[0m\u001b[0m\n\u001b[0;32m-> 3478\u001b[0;31m       \u001b[0;32mreturn\u001b[0m \u001b[0mself\u001b[0m\u001b[0;34m.\u001b[0m\u001b[0m_as_graph_element_locked\u001b[0m\u001b[0;34m(\u001b[0m\u001b[0mobj\u001b[0m\u001b[0;34m,\u001b[0m \u001b[0mallow_tensor\u001b[0m\u001b[0;34m,\u001b[0m \u001b[0mallow_operation\u001b[0m\u001b[0;34m)\u001b[0m\u001b[0;34m\u001b[0m\u001b[0m\n\u001b[0m\u001b[1;32m   3479\u001b[0m \u001b[0;34m\u001b[0m\u001b[0m\n\u001b[1;32m   3480\u001b[0m   \u001b[0;32mdef\u001b[0m \u001b[0m_as_graph_element_locked\u001b[0m\u001b[0;34m(\u001b[0m\u001b[0mself\u001b[0m\u001b[0;34m,\u001b[0m \u001b[0mobj\u001b[0m\u001b[0;34m,\u001b[0m \u001b[0mallow_tensor\u001b[0m\u001b[0;34m,\u001b[0m \u001b[0mallow_operation\u001b[0m\u001b[0;34m)\u001b[0m\u001b[0;34m:\u001b[0m\u001b[0;34m\u001b[0m\u001b[0m\n",
            "\u001b[0;32m/usr/local/lib/python2.7/dist-packages/tensorflow/python/framework/ops.pyc\u001b[0m in \u001b[0;36m_as_graph_element_locked\u001b[0;34m(self, obj, allow_tensor, allow_operation)\u001b[0m\n\u001b[1;32m   3565\u001b[0m       \u001b[0;31m# We give up!\u001b[0m\u001b[0;34m\u001b[0m\u001b[0;34m\u001b[0m\u001b[0m\n\u001b[1;32m   3566\u001b[0m       raise TypeError(\"Can not convert a %s into a %s.\" % (type(obj).__name__,\n\u001b[0;32m-> 3567\u001b[0;31m                                                            types_str))\n\u001b[0m\u001b[1;32m   3568\u001b[0m \u001b[0;34m\u001b[0m\u001b[0m\n\u001b[1;32m   3569\u001b[0m   \u001b[0;32mdef\u001b[0m \u001b[0mget_operations\u001b[0m\u001b[0;34m(\u001b[0m\u001b[0mself\u001b[0m\u001b[0;34m)\u001b[0m\u001b[0;34m:\u001b[0m\u001b[0;34m\u001b[0m\u001b[0m\n",
            "\u001b[0;31mTypeError\u001b[0m: Can not convert a list into a Tensor or Operation."
          ]
        }
      ]
    },
    {
      "metadata": {
        "id": "BOrzNCdS2ruG",
        "colab_type": "code",
        "colab": {}
      },
      "cell_type": "code",
      "source": [
        "recurrent_layer = model.get_layer('recurrent_layer')"
      ],
      "execution_count": 0,
      "outputs": []
    },
    {
      "metadata": {
        "id": "XPrHyE3wxB_Y",
        "colab_type": "code",
        "colab": {}
      },
      "cell_type": "code",
      "source": [
        "#model = load_model('model.hdf5')"
      ],
      "execution_count": 0,
      "outputs": []
    },
    {
      "metadata": {
        "id": "x8qrYNzR9zf0",
        "colab_type": "code",
        "colab": {
          "base_uri": "https://localhost:8080/",
          "height": 827
        },
        "outputId": "95f54626-4819-44c1-adf6-b0ba313e366b"
      },
      "cell_type": "code",
      "source": [
        "\n",
        "all_function, output_function = visualize_model(model, include_gradients=True)"
      ],
      "execution_count": 6,
      "outputs": [
        {
          "output_type": "stream",
          "text": [
            "loss.shape(?, 1)\n"
          ],
          "name": "stdout"
        },
        {
          "output_type": "error",
          "ename": "ValueError",
          "evalue": "ignored",
          "traceback": [
            "\u001b[0;31m\u001b[0m",
            "\u001b[0;31mValueError\u001b[0mTraceback (most recent call last)",
            "\u001b[0;32m<ipython-input-6-52c45713483d>\u001b[0m in \u001b[0;36m<module>\u001b[0;34m()\u001b[0m\n\u001b[1;32m      1\u001b[0m \u001b[0;34m\u001b[0m\u001b[0m\n\u001b[0;32m----> 2\u001b[0;31m \u001b[0mall_function\u001b[0m\u001b[0;34m,\u001b[0m \u001b[0moutput_function\u001b[0m \u001b[0;34m=\u001b[0m \u001b[0mvisualize_model\u001b[0m\u001b[0;34m(\u001b[0m\u001b[0mmodel\u001b[0m\u001b[0;34m,\u001b[0m \u001b[0minclude_gradients\u001b[0m\u001b[0;34m=\u001b[0m\u001b[0mTrue\u001b[0m\u001b[0;34m)\u001b[0m\u001b[0;34m\u001b[0m\u001b[0m\n\u001b[0m",
            "\u001b[0;32m<ipython-input-5-518e1ba84963>\u001b[0m in \u001b[0;36mvisualize_model\u001b[0;34m(model, include_gradients)\u001b[0m\n\u001b[1;32m     97\u001b[0m     \u001b[0mgrads\u001b[0m \u001b[0;34m=\u001b[0m \u001b[0mK\u001b[0m\u001b[0;34m.\u001b[0m\u001b[0mgradients\u001b[0m\u001b[0;34m(\u001b[0m\u001b[0mloss\u001b[0m\u001b[0;34m,\u001b[0m \u001b[0mmodel\u001b[0m\u001b[0;34m.\u001b[0m\u001b[0minput\u001b[0m\u001b[0;34m)\u001b[0m\u001b[0;34m[\u001b[0m\u001b[0;36m0\u001b[0m\u001b[0;34m]\u001b[0m \u001b[0;31m# Partial derivative  or total derivate ? I think I want stop since I want to conisder the consider only the contributions of x's of loss wrt the output of the LSTM. Showing how a small change in the output of the recurrent will affect our loss, in this case, how it affects the output.\u001b[0m\u001b[0;34m\u001b[0m\u001b[0m\n\u001b[1;32m     98\u001b[0m     \u001b[0;31m#print(\"grads.shape{}\".format(len(grads)))\u001b[0m\u001b[0;34m\u001b[0m\u001b[0;34m\u001b[0m\u001b[0m\n\u001b[0;32m---> 99\u001b[0;31m     \u001b[0mgrads_norm\u001b[0m \u001b[0;34m=\u001b[0m \u001b[0mgrads\u001b[0m \u001b[0;34m/\u001b[0m \u001b[0;34m(\u001b[0m\u001b[0mK\u001b[0m\u001b[0;34m.\u001b[0m\u001b[0msqrt\u001b[0m\u001b[0;34m(\u001b[0m\u001b[0mK\u001b[0m\u001b[0;34m.\u001b[0m\u001b[0mmean\u001b[0m\u001b[0;34m(\u001b[0m\u001b[0mK\u001b[0m\u001b[0;34m.\u001b[0m\u001b[0msquare\u001b[0m\u001b[0;34m(\u001b[0m\u001b[0mgrads\u001b[0m\u001b[0;34m)\u001b[0m\u001b[0;34m)\u001b[0m\u001b[0;34m)\u001b[0m \u001b[0;34m+\u001b[0m \u001b[0;36m1e-5\u001b[0m\u001b[0;34m)\u001b[0m \u001b[0;31m# Do I want to take the mean of the encoding? Do I want abs/positive grads? absolute?\u001b[0m\u001b[0;34m\u001b[0m\u001b[0m\n\u001b[0m\u001b[1;32m    100\u001b[0m     \u001b[0moutputs\u001b[0m\u001b[0;34m.\u001b[0m\u001b[0mappend\u001b[0m\u001b[0;34m(\u001b[0m\u001b[0mgrads_norm\u001b[0m\u001b[0;34m)\u001b[0m\u001b[0;34m\u001b[0m\u001b[0m\n\u001b[1;32m    101\u001b[0m \u001b[0;34m\u001b[0m\u001b[0m\n",
            "\u001b[0;32m/usr/local/lib/python2.7/dist-packages/keras/backend/tensorflow_backend.pyc\u001b[0m in \u001b[0;36msquare\u001b[0;34m(x)\u001b[0m\n\u001b[1;32m   1433\u001b[0m         \u001b[0mA\u001b[0m \u001b[0mtensor\u001b[0m\u001b[0;34m.\u001b[0m\u001b[0;34m\u001b[0m\u001b[0m\n\u001b[1;32m   1434\u001b[0m     \"\"\"\n\u001b[0;32m-> 1435\u001b[0;31m     \u001b[0;32mreturn\u001b[0m \u001b[0mtf\u001b[0m\u001b[0;34m.\u001b[0m\u001b[0msquare\u001b[0m\u001b[0;34m(\u001b[0m\u001b[0mx\u001b[0m\u001b[0;34m)\u001b[0m\u001b[0;34m\u001b[0m\u001b[0m\n\u001b[0m\u001b[1;32m   1436\u001b[0m \u001b[0;34m\u001b[0m\u001b[0m\n\u001b[1;32m   1437\u001b[0m \u001b[0;34m\u001b[0m\u001b[0m\n",
            "\u001b[0;32m/usr/local/lib/python2.7/dist-packages/tensorflow/python/ops/math_ops.pyc\u001b[0m in \u001b[0;36msquare\u001b[0;34m(x, name)\u001b[0m\n\u001b[1;32m    468\u001b[0m           indices=x.indices, values=x_square, dense_shape=x.dense_shape)\n\u001b[1;32m    469\u001b[0m     \u001b[0;32melse\u001b[0m\u001b[0;34m:\u001b[0m\u001b[0;34m\u001b[0m\u001b[0m\n\u001b[0;32m--> 470\u001b[0;31m       \u001b[0;32mreturn\u001b[0m \u001b[0mgen_math_ops\u001b[0m\u001b[0;34m.\u001b[0m\u001b[0msquare\u001b[0m\u001b[0;34m(\u001b[0m\u001b[0mx\u001b[0m\u001b[0;34m,\u001b[0m \u001b[0mname\u001b[0m\u001b[0;34m=\u001b[0m\u001b[0mname\u001b[0m\u001b[0;34m)\u001b[0m\u001b[0;34m\u001b[0m\u001b[0m\n\u001b[0m\u001b[1;32m    471\u001b[0m \u001b[0;34m\u001b[0m\u001b[0m\n\u001b[1;32m    472\u001b[0m \u001b[0;34m\u001b[0m\u001b[0m\n",
            "\u001b[0;32m/usr/local/lib/python2.7/dist-packages/tensorflow/python/ops/gen_math_ops.pyc\u001b[0m in \u001b[0;36msquare\u001b[0;34m(x, name)\u001b[0m\n\u001b[1;32m   7811\u001b[0m   \u001b[0;32mif\u001b[0m \u001b[0;32mnot\u001b[0m \u001b[0m_ctx\u001b[0m\u001b[0;34m.\u001b[0m\u001b[0mexecuting_eagerly\u001b[0m\u001b[0;34m(\u001b[0m\u001b[0;34m)\u001b[0m\u001b[0;34m:\u001b[0m\u001b[0;34m\u001b[0m\u001b[0m\n\u001b[1;32m   7812\u001b[0m     _, _, _op = _op_def_lib._apply_op_helper(\n\u001b[0;32m-> 7813\u001b[0;31m         \"Square\", x=x, name=name)\n\u001b[0m\u001b[1;32m   7814\u001b[0m     \u001b[0m_result\u001b[0m \u001b[0;34m=\u001b[0m \u001b[0m_op\u001b[0m\u001b[0;34m.\u001b[0m\u001b[0moutputs\u001b[0m\u001b[0;34m[\u001b[0m\u001b[0;34m:\u001b[0m\u001b[0;34m]\u001b[0m\u001b[0;34m\u001b[0m\u001b[0m\n\u001b[1;32m   7815\u001b[0m     \u001b[0m_inputs_flat\u001b[0m \u001b[0;34m=\u001b[0m \u001b[0m_op\u001b[0m\u001b[0;34m.\u001b[0m\u001b[0minputs\u001b[0m\u001b[0;34m\u001b[0m\u001b[0m\n",
            "\u001b[0;32m/usr/local/lib/python2.7/dist-packages/tensorflow/python/framework/op_def_library.pyc\u001b[0m in \u001b[0;36m_apply_op_helper\u001b[0;34m(self, op_type_name, name, **keywords)\u001b[0m\n\u001b[1;32m    526\u001b[0m               raise ValueError(\n\u001b[1;32m    527\u001b[0m                   \u001b[0;34m\"Tried to convert '%s' to a tensor and failed. Error: %s\"\u001b[0m \u001b[0;34m%\u001b[0m\u001b[0;34m\u001b[0m\u001b[0m\n\u001b[0;32m--> 528\u001b[0;31m                   (input_name, err))\n\u001b[0m\u001b[1;32m    529\u001b[0m             prefix = (\"Input '%s' of '%s' Op has type %s that does not match\" %\n\u001b[1;32m    530\u001b[0m                       (input_name, op_type_name, observed))\n",
            "\u001b[0;31mValueError\u001b[0m: Tried to convert 'x' to a tensor and failed. Error: None values not supported."
          ]
        }
      ]
    },
    {
      "metadata": {
        "id": "uS0uW3_IFsOc",
        "colab_type": "text"
      },
      "cell_type": "markdown",
      "source": [
        "# Visualization"
      ]
    },
    {
      "metadata": {
        "id": "V46z8-rkFxbs",
        "colab_type": "code",
        "colab": {}
      },
      "cell_type": "code",
      "source": [
        "# -- Return scores, raw rnn values and gradients\n",
        "# scores is equivalent to model.predict(X)\n",
        "def getVisualization(review):\n",
        "  t = review.lower()\n",
        "  X = vectorize(t, vocab)\n",
        "  scores, rnn_values, W_i, logits, rnn_gradients = all_function([X])\n",
        "  return scores, rnn_values, W_i, logits, rnn_gradients\n",
        "\n",
        "\n",
        "def get_df(data, review, padding=3):\n",
        "  \n",
        "  review_tokens =  review.split(\" \")\n",
        "  sentence_len =   len(review_tokens)\n",
        "\n",
        "  num_seq = sentence_len + padding\n",
        "\n",
        "  #x = np.transpose(np.squeeze(data)[-(sentence_len + padding):,:])\n",
        "  x = np.transpose(np.squeeze(data)[-num_seq:,])\n",
        "\n",
        "  words = np.squeeze(sequence.pad_sequences([review_tokens], maxlen= sentence_len + padding, dtype='string'))\n",
        "    \n",
        "  return pd.DataFrame(data=np.squeeze(x), columns=words)\n",
        "\n",
        "def get_df_2(data, review, padding=3):\n",
        "\n",
        "  review_tokens =  review.split(\" \")\n",
        "  sentence_len =   len(review_tokens)\n",
        "\n",
        "  num_seq = sentence_len + padding\n",
        "  x = np.reshape(np.squeeze(data),(1,-1))[:,-num_seq:]\n",
        "\n",
        "  words = np.squeeze(sequence.pad_sequences([review_tokens], maxlen= num_seq, dtype='string'))\n",
        "\n",
        "  return pd.DataFrame(data=x, columns = words)\n",
        "\n",
        "\n"
      ],
      "execution_count": 0,
      "outputs": []
    },
    {
      "metadata": {
        "id": "-PwQlmFxlGAy",
        "colab_type": "code",
        "colab": {
          "base_uri": "https://localhost:8080/",
          "height": 34
        },
        "outputId": "6a4a3214-14b8-4cab-8e2b-0aae73aa37be"
      },
      "cell_type": "code",
      "source": [
        "scores, rnn_values, W_i, logits,rnn_gradients = getVisualization(\"\")\n",
        "#print(rnn_gradients.shape)\n",
        "#rnn_gradients[-1]\n",
        "#get_df(rnn_gradients, 'this is a bad movie')\n",
        "#get_df(rnn_gradients, 'This is a bad movie. The sky is so high I could fly')\n",
        "np.squeeze(rnn_gradients)[0][0]"
      ],
      "execution_count": 175,
      "outputs": [
        {
          "output_type": "execute_result",
          "data": {
            "text/plain": [
              "0.0"
            ]
          },
          "metadata": {
            "tags": []
          },
          "execution_count": 175
        }
      ]
    },
    {
      "metadata": {
        "id": "BsGZaLpvOVis",
        "colab_type": "code",
        "colab": {
          "base_uri": "https://localhost:8080/",
          "height": 243
        },
        "outputId": "88541dde-80f5-4ad2-a90c-38488493e40b"
      },
      "cell_type": "code",
      "source": [
        "\n",
        "\n",
        "scores, rnn_values, W_i, logits,rnn_gradients = getVisualization(\"Hi\")\n",
        "rnn_gradients"
      ],
      "execution_count": 58,
      "outputs": [
        {
          "output_type": "execute_result",
          "data": {
            "text/plain": [
              "array([[[-8.4931190e-07,  8.3018995e-07,  1.5282781e-06, ...,\n",
              "          1.6263962e-06,  1.2196409e-06, -2.6524938e-06],\n",
              "        [-9.5705991e-07,  9.2584941e-07,  1.7024404e-06, ...,\n",
              "          1.7738878e-06,  1.3525149e-06, -2.9045445e-06],\n",
              "        [-1.0790561e-06,  1.0375427e-06,  1.9022334e-06, ...,\n",
              "          1.9432848e-06,  1.5037923e-06, -3.1958305e-06],\n",
              "        ...,\n",
              "        [ 2.7788496e-02,  1.2600323e-02,  4.4466485e-03, ...,\n",
              "          2.1094881e-02,  8.4596341e-03, -4.2454764e-02],\n",
              "        [ 4.2137243e-02,  1.5805140e-02,  1.8903933e-03, ...,\n",
              "          2.6929010e-02,  6.8867602e-03, -5.6634378e-02],\n",
              "        [ 5.6880083e-02,  1.9530041e-02, -4.0069968e-03, ...,\n",
              "          2.4829777e-02,  4.0087495e-03, -6.4952858e-02]]], dtype=float32)"
            ]
          },
          "metadata": {
            "tags": []
          },
          "execution_count": 58
        }
      ]
    },
    {
      "metadata": {
        "id": "NU4b8bY6v9jW",
        "colab_type": "code",
        "colab": {
          "base_uri": "https://localhost:8080/",
          "height": 34
        },
        "outputId": "81df3eba-c581-49f4-9ef7-37270869387c"
      },
      "cell_type": "code",
      "source": [
        "plt.get_cmap(\"RdBu_r\")"
      ],
      "execution_count": 58,
      "outputs": [
        {
          "output_type": "execute_result",
          "data": {
            "text/plain": [
              "<matplotlib.colors.LinearSegmentedColormap at 0x7fc655bdb690>"
            ]
          },
          "metadata": {
            "tags": []
          },
          "execution_count": 58
        }
      ]
    },
    {
      "metadata": {
        "id": "WAVgnbILGhnO",
        "colab_type": "code",
        "colab": {}
      },
      "cell_type": "code",
      "source": [
        "def plot(reviews):\n",
        "  palette = plt.get_cmap(\"RdBu_r\")\n",
        "  #palette = sns.color_palette(\"RdBu_r\", 7)\n",
        "  f, ax = plt.subplots(figsize=(25, 20), nrows=2, ncols=4, sharey=True)\n",
        " \n",
        "  for j, review in enumerate(reviews):\n",
        "    \n",
        "    scores, rnn_values, W_i, logits, rnn_gradients = getVisualization(review)\n",
        "    \n",
        "    rnn_activations = get_df(rnn_values, review)\n",
        "    \n",
        "    time_distributed_scores = map(lambda x: output_function([x]), rnn_values)\n",
        "    time_distributed_scores = get_df_2(time_distributed_scores, review)\n",
        "    \n",
        "    ax[0][j].set_title(\"GRU Hidden Layer Activations\\nScore:{:.2f}\".format(scores[0][0]))\n",
        "    sns.heatmap(data = rnn_activations, fmt=\".2f\", linewidths=.5, ax=ax[0][j], cmap=palette)\n",
        "    \n",
        "    ax[1][j].set_title(\"GRU Time Distributed Scores \\nScore:{:.2f}\".format(scores[0][0]))\n",
        "    sns.heatmap(data = time_distributed_scores, fmt=\".2f\", linewidths=.5, ax=ax[1][j], cmap=palette)\n",
        "    "
      ],
      "execution_count": 0,
      "outputs": []
    },
    {
      "metadata": {
        "id": "fdOU0RWgFSxA",
        "colab_type": "code",
        "colab": {
          "base_uri": "https://localhost:8080/",
          "height": 1217
        },
        "outputId": "b9b6ce50-497f-4e1d-9e1b-8cf1f5342de6"
      },
      "cell_type": "code",
      "source": [
        "reviews = ['This is a good movie', 'This is a bad movie', 'The sky is so blue', 'Horrible movie, I ate some cupcakes yesterday and it made me felt great!']\n",
        "\n",
        "plot(reviews)"
      ],
      "execution_count": 66,
      "outputs": [
        {
          "output_type": "display_data",
          "data": {
            "image/png": "[encoded data removed]",
            "text/plain": [
              "<matplotlib.figure.Figure at 0x7fc5f8a4e190>"
            ]
          },
          "metadata": {
            "tags": []
          }
        }
      ]
    },
    {
      "metadata": {
        "id": "7_hBNXGJFjje",
        "colab_type": "code",
        "colab": {}
      },
      "cell_type": "code",
      "source": [
        ""
      ],
      "execution_count": 0,
      "outputs": []
    },
    {
      "metadata": {
        "id": "Bieh3aDrFTQg",
        "colab_type": "code",
        "colab": {}
      },
      "cell_type": "code",
      "source": [
        ""
      ],
      "execution_count": 0,
      "outputs": []
    },
    {
      "metadata": {
        "id": "k5MqxKkh47TQ",
        "colab_type": "code",
        "colab": {
          "base_uri": "https://localhost:8080/",
          "height": 35
        },
        "outputId": "4bce01d9-59d9-455f-8ff7-31fa17e44a3e"
      },
      "cell_type": "code",
      "source": [
        "t = \"this is a good movie\".lower()\n",
        "X = vectorize(t, vocab)\n",
        "\n",
        "# -- Return scores, raw rnn values and gradients\n",
        "# scores is equivalent to model.predict(X)\n",
        "scores, rnn_values, rnn_gradients, W_i = all_function([X])\n",
        "scores"
      ],
      "execution_count": 19,
      "outputs": [
        {
          "output_type": "execute_result",
          "data": {
            "text/plain": [
              "array([[0.80246824]], dtype=float32)"
            ]
          },
          "metadata": {
            "tags": []
          },
          "execution_count": 19
        }
      ]
    },
    {
      "metadata": {
        "id": "A_M-NIScvvEW",
        "colab_type": "code",
        "colab": {
          "base_uri": "https://localhost:8080/",
          "height": 34
        },
        "outputId": "0d8c2bdf-af7d-4e02-9672-408da7c06862"
      },
      "cell_type": "code",
      "source": [
        "labels_test[12]"
      ],
      "execution_count": 12,
      "outputs": [
        {
          "output_type": "execute_result",
          "data": {
            "text/plain": [
              "1"
            ]
          },
          "metadata": {
            "tags": []
          },
          "execution_count": 12
        }
      ]
    },
    {
      "metadata": {
        "id": "DlE58vd3u4yg",
        "colab_type": "code",
        "colab": {
          "base_uri": "https://localhost:8080/",
          "height": 54
        },
        "outputId": "51e5217e-2874-4631-d036-f9b381f01805"
      },
      "cell_type": "code",
      "source": [
        "ex = \" \".join([rev_vocab[word] for word in x_test[12] if word in rev_vocab])\n",
        "ex"
      ],
      "execution_count": 30,
      "outputs": [
        {
          "output_type": "execute_result",
          "data": {
            "text/plain": [
              "u\"i first saw this movie on ifc which is a great network by the way to see underground films i watched this movie and was thinking it was going to be pure drama and a story line that doesn't hold water but it really was a worth while watch the main character is in such rough shape and you hate to see him deny help but no matter what you just can't hate him his devotion to the beatles and john lennon is a great metaphor for his life and the helplessness he feels br br the atmosphere of the film is also great at times you feel like you can see what he sees feel what he feels in some situations this movie does not leave you wanting to know more or disliking a loophole in the plot there are no loopholes in my opinion i have always been a fan of foreign films especially now with movies being made so poorly in america i really enjoy the foreign settings because i feel it can take you on a trip and sometimes understand a different culture this movie did all those things to me and more please watch this movie and if you're new to foreign films this is a great start\""
            ]
          },
          "metadata": {
            "tags": []
          },
          "execution_count": 30
        }
      ]
    },
    {
      "metadata": {
        "id": "S7isBQnaX-Y-",
        "colab_type": "code",
        "colab": {}
      },
      "cell_type": "code",
      "source": [
        "loss = K.mean(model.output)  # [batch_size, 1] -> scalar   #Why is the mean of the output the loss? The ouput of the sigmoid is the loss?? Mean of a scalar??? why? since mean of scalar is just the scalar?\n",
        "print(\"loss.shape{}\".format(loss.shape))\n",
        "grads = K.gradients(loss, recurrent_layer.output) # Partial derivative of loss wrt the output of the LSTM. Showing how a small change in the output of the recurrent will affect our loss, in this case, how it affects the output.\n",
        "print(\"grads.shape{}\".format(len(grads)))                                                  #Is this what we want? Or do we want the gradient wrt the input? I guess not because we want to consider the effect of the sequence rather than the indep input.\n",
        "grads_norm = grads / (K.sqrt(K.mean(K.square(grads))) + 1e-5)\n",
        "outputs.append(grads_norm)\n"
      ],
      "execution_count": 0,
      "outputs": []
    },
    {
      "metadata": {
        "id": "gyQBwfit4Cic",
        "colab_type": "code",
        "colab": {
          "base_uri": "https://localhost:8080/",
          "height": 34
        },
        "outputId": "5c690d70-915e-464b-db0d-2afef7768fc8"
      },
      "cell_type": "code",
      "source": [
        "vectorize(ex,vocab).shape"
      ],
      "execution_count": 0,
      "outputs": [
        {
          "output_type": "execute_result",
          "data": {
            "text/plain": [
              "(1, 80)"
            ]
          },
          "metadata": {
            "tags": []
          },
          "execution_count": 20
        }
      ]
    },
    {
      "metadata": {
        "id": "LuyphGkZ38Hm",
        "colab_type": "code",
        "colab": {
          "base_uri": "https://localhost:8080/",
          "height": 303
        },
        "outputId": "ef26b222-2dcd-4b97-c69f-7660217e8cbc"
      },
      "cell_type": "code",
      "source": [
        "output = np.zeros((10,1))\n",
        "K.mean(o\n",
        "       \n",
        "       \n",
        "       \n",
        "       \n",
        "       \n",
        "       \n",
        "utput)"
      ],
      "execution_count": 0,
      "outputs": [
        {
          "output_type": "error",
          "ename": "AttributeError",
          "evalue": "ignored",
          "traceback": [
            "\u001b[0;31m\u001b[0m",
            "\u001b[0;31mAttributeError\u001b[0mTraceback (most recent call last)",
            "\u001b[0;32m<ipython-input-4-a69e2467bcc2>\u001b[0m in \u001b[0;36m<module>\u001b[0;34m()\u001b[0m\n\u001b[1;32m      1\u001b[0m \u001b[0moutput\u001b[0m \u001b[0;34m=\u001b[0m \u001b[0mnp\u001b[0m\u001b[0;34m.\u001b[0m\u001b[0mzeros\u001b[0m\u001b[0;34m(\u001b[0m\u001b[0;34m(\u001b[0m\u001b[0;36m10\u001b[0m\u001b[0;34m,\u001b[0m\u001b[0;36m1\u001b[0m\u001b[0;34m)\u001b[0m\u001b[0;34m)\u001b[0m\u001b[0;34m\u001b[0m\u001b[0m\n\u001b[0;32m----> 2\u001b[0;31m \u001b[0mK\u001b[0m\u001b[0;34m.\u001b[0m\u001b[0mmean\u001b[0m\u001b[0;34m(\u001b[0m\u001b[0moutput\u001b[0m\u001b[0;34m)\u001b[0m\u001b[0;34m\u001b[0m\u001b[0m\n\u001b[0m",
            "\u001b[0;32m/usr/local/lib/python2.7/dist-packages/keras/backend/tensorflow_backend.pyc\u001b[0m in \u001b[0;36mmean\u001b[0;34m(x, axis, keepdims)\u001b[0m\n\u001b[1;32m   1363\u001b[0m         \u001b[0mA\u001b[0m \u001b[0mtensor\u001b[0m \u001b[0;32mwith\u001b[0m \u001b[0mthe\u001b[0m \u001b[0mmean\u001b[0m \u001b[0mof\u001b[0m \u001b[0melements\u001b[0m \u001b[0mof\u001b[0m \u001b[0;34m`\u001b[0m\u001b[0mx\u001b[0m\u001b[0;34m`\u001b[0m\u001b[0;34m.\u001b[0m\u001b[0;34m\u001b[0m\u001b[0m\n\u001b[1;32m   1364\u001b[0m     \"\"\"\n\u001b[0;32m-> 1365\u001b[0;31m     \u001b[0;32mif\u001b[0m \u001b[0mx\u001b[0m\u001b[0;34m.\u001b[0m\u001b[0mdtype\u001b[0m\u001b[0;34m.\u001b[0m\u001b[0mbase_dtype\u001b[0m \u001b[0;34m==\u001b[0m \u001b[0mtf\u001b[0m\u001b[0;34m.\u001b[0m\u001b[0mbool\u001b[0m\u001b[0;34m:\u001b[0m\u001b[0;34m\u001b[0m\u001b[0m\n\u001b[0m\u001b[1;32m   1366\u001b[0m         \u001b[0mx\u001b[0m \u001b[0;34m=\u001b[0m \u001b[0mtf\u001b[0m\u001b[0;34m.\u001b[0m\u001b[0mcast\u001b[0m\u001b[0;34m(\u001b[0m\u001b[0mx\u001b[0m\u001b[0;34m,\u001b[0m \u001b[0mfloatx\u001b[0m\u001b[0;34m(\u001b[0m\u001b[0;34m)\u001b[0m\u001b[0;34m)\u001b[0m\u001b[0;34m\u001b[0m\u001b[0m\n\u001b[1;32m   1367\u001b[0m     \u001b[0;32mreturn\u001b[0m \u001b[0mtf\u001b[0m\u001b[0;34m.\u001b[0m\u001b[0mreduce_mean\u001b[0m\u001b[0;34m(\u001b[0m\u001b[0mx\u001b[0m\u001b[0;34m,\u001b[0m \u001b[0maxis\u001b[0m\u001b[0;34m,\u001b[0m \u001b[0mkeepdims\u001b[0m\u001b[0;34m)\u001b[0m\u001b[0;34m\u001b[0m\u001b[0m\n",
            "\u001b[0;31mAttributeError\u001b[0m: 'numpy.dtype' object has no attribute 'base_dtype'"
          ]
        }
      ]
    },
    {
      "metadata": {
        "id": "NMRNEW_I4Cls",
        "colab_type": "text"
      },
      "cell_type": "markdown",
      "source": [
        ""
      ]
    },
    {
      "metadata": {
        "id": "lhNz0wcWk312",
        "colab_type": "code",
        "colab": {
          "base_uri": "https://localhost:8080/",
          "height": 121
        },
        "outputId": "a3d8554d-91ee-4584-9d36-23cb88614860"
      },
      "cell_type": "code",
      "source": [
        " X_train, y_train, X_test, y_test = vectorize_data()"
      ],
      "execution_count": 25,
      "outputs": [
        {
          "output_type": "stream",
          "text": [
            "Loading data...\n",
            "25000 train sequences\n",
            "25000 test sequences\n",
            "Pad sequences (samples x time)\n",
            "X_train shape: (25000, 80)\n",
            "X_test shape: (25000, 80)\n"
          ],
          "name": "stdout"
        }
      ]
    },
    {
      "metadata": {
        "id": "TQJKBc8NyCWu",
        "colab_type": "code",
        "colab": {
          "base_uri": "https://localhost:8080/",
          "height": 54
        },
        "outputId": "8c7db6e2-d179-49d3-e51c-4b9f37aa2c1e"
      },
      "cell_type": "code",
      "source": [
        "\" \".join([rev_vocab[word] for word in X_test[12] if word in rev_vocab])"
      ],
      "execution_count": 27,
      "outputs": [
        {
          "output_type": "execute_result",
          "data": {
            "text/plain": [
              "u\"encounter wit understand not director main of hate br doesn't of you was attempt why this enough cult or of sequel missed lovable as problem on it had world francis to mercilessly film films for against also and adds that's but only producing to so shocked wouldn't br think now cut was nothing which same that played this is producer do on actor really it sam but we he's was did is quite br around rigid many final why typical\""
            ]
          },
          "metadata": {
            "tags": []
          },
          "execution_count": 27
        }
      ]
    }
  ]
}